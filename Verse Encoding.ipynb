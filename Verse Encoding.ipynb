{
 "cells": [
  {
   "cell_type": "markdown",
   "metadata": {},
   "source": [
    "## To-do\n",
    "\n",
    "+ 对象：\n",
    "    + 五绝（二联，四句）\n",
    "    + 五律（四联，八句）\n",
    "+ 原始诗歌文本预处理（分字）\n",
    "+ 采用《平水韵》韵书判断平仄（问题：多音字）\n",
    "+ 判断符合格律：\n",
    "    + 五绝（律）平起首句入韵\n",
    "    + 五绝（律）仄起首句入韵\n",
    "    + 五绝（律）平起首句不入韵\n",
    "    + 五绝（律）仄起首句不入韵\n",
    "+ 判断押韵\n",
    "    + 失粘、失对、三平、孤平\n",
    "+ 编码使符合 TEI Verse 格式\n",
    "    + 解读 TEI Verse 标签******"
   ]
  },
  {
   "cell_type": "code",
   "execution_count": 1,
   "metadata": {
    "ExecuteTime": {
     "end_time": "2020-01-10T21:28:57.758304Z",
     "start_time": "2020-01-10T21:28:55.138034Z"
    }
   },
   "outputs": [],
   "source": [
    "# encoding=utf-8\n",
    "import jieba\n",
    "import nltk\n",
    "import json\n",
    "import re"
   ]
  },
  {
   "cell_type": "code",
   "execution_count": 2,
   "metadata": {
    "ExecuteTime": {
     "end_time": "2020-01-10T21:28:58.347945Z",
     "start_time": "2020-01-10T21:28:58.343992Z"
    }
   },
   "outputs": [],
   "source": [
    "def flatten(l):\n",
    "    return [item for sublist in l for item in sublist]"
   ]
  },
  {
   "cell_type": "code",
   "execution_count": 3,
   "metadata": {
    "ExecuteTime": {
     "end_time": "2020-01-10T21:28:58.851302Z",
     "start_time": "2020-01-10T21:28:58.783138Z"
    }
   },
   "outputs": [],
   "source": [
    "with open(\"cope/data/rhymebooks.json\") as output:\n",
    "    rhymes = json.load(output)\n",
    "with open(\"cope/data/TC2SC.json\") as output:\n",
    "    T2C = json.load(output)\n",
    "with open(\"cope/data/kangxi.json\") as output:\n",
    "    Dict = json.load(output)"
   ]
  },
  {
   "cell_type": "code",
   "execution_count": 4,
   "metadata": {
    "ExecuteTime": {
     "end_time": "2020-01-10T21:28:59.574562Z",
     "start_time": "2020-01-10T21:28:59.567932Z"
    }
   },
   "outputs": [
    {
     "name": "stdout",
     "output_type": "stream",
     "text": [
      "【唐韻】【集韻】【韻會】【正韻】□余六切，音育。【說文】燿也。【前漢班固敘傳】其餘焱飛景附，煜霅其閒者，蓋不可勝載。【註】師古曰：煜霅，光貌。　又【玉篇】火焰也。【廣韻】火光。　又【玉篇】盛貌。【班固東都賦】管絃曄煜。【註】曄煜，盛貌。　又【廣韻】爲立切【集韻】域及切【韻會】弋入切，□音熠。【廣韻】火貌。　【廣韻】同焴。\n"
     ]
    }
   ],
   "source": [
    "print(Dict['煜'])"
   ]
  },
  {
   "cell_type": "code",
   "execution_count": 5,
   "metadata": {
    "ExecuteTime": {
     "end_time": "2020-01-10T21:29:00.569933Z",
     "start_time": "2020-01-10T21:29:00.564619Z"
    }
   },
   "outputs": [],
   "source": [
    "# 《平水韵》有入声，《中华新韵》无。\n",
    "# 诗用《平水韵》，词用《词林正韵》\n",
    "P_PING_unflattened = rhymes['平水韵'][0]\n",
    "Z_PING_unflattened = rhymes['平水韵'][1]\n",
    "P_PING = flatten(rhymes['平水韵'][0])\n",
    "Z_PING = flatten(rhymes['平水韵'][1])\n",
    "# P_ZHXY = flatten(rhymes['中华新韵'][0])\n",
    "# Z_ZHXY = flatten(rhymes['中华新韵'][1])"
   ]
  },
  {
   "cell_type": "code",
   "execution_count": 22,
   "metadata": {
    "ExecuteTime": {
     "end_time": "2020-01-10T21:39:09.513375Z",
     "start_time": "2020-01-10T21:39:09.508671Z"
    }
   },
   "outputs": [],
   "source": [
    "raw1 = \"白日依山尽，黄河入海流。欲穷千里目，更上一层楼。\"\n",
    "raw2 = \"迟日江山丽，春风花草香。 泥融飞燕子， 沙暖睡鸳鸯。\"\n",
    "raw3 = \"鸣筝金粟柱, 素手玉房前, 欲得周郎顾, 时时误拂弦\"\n",
    "raw4 = \"花明绮陌春，柳拂御沟新。为报辽阳客，流芳不待人。\"\n",
    "raw5 = \"北斗七星高，哥舒夜带刀。至今窥牧马，不敢过临洮。\"\n",
    "raw6 = \"离离原上草，一岁一枯荣。野火烧不尽，春风吹又生。\""
   ]
  },
  {
   "cell_type": "code",
   "execution_count": 23,
   "metadata": {
    "ExecuteTime": {
     "end_time": "2020-01-10T21:39:15.878222Z",
     "start_time": "2020-01-10T21:39:15.874605Z"
    }
   },
   "outputs": [],
   "source": [
    "raw7 = \"泠泠七弦上，静听松风寒。古调虽自爱，今人多不弹。\""
   ]
  },
  {
   "cell_type": "code",
   "execution_count": 9,
   "metadata": {
    "ExecuteTime": {
     "end_time": "2020-01-10T21:29:15.064286Z",
     "start_time": "2020-01-10T21:29:15.058682Z"
    }
   },
   "outputs": [],
   "source": [
    "def preprocess(raw):\n",
    "    clean = re.sub(r'[，。, .]', \"\", raw)\n",
    "    tokens = [token for token in clean if token]\n",
    "    tones  = []\n",
    "    for t in tokens:\n",
    "        if t in P_PING:\n",
    "            if t in Z_PING:\n",
    "                tones.append('1/0') \n",
    "            else:\n",
    "                tones.append('1') \n",
    "        else:\n",
    "            tones.append('0')\n",
    "    return tokens,tones"
   ]
  },
  {
   "cell_type": "code",
   "execution_count": 67,
   "metadata": {
    "ExecuteTime": {
     "end_time": "2020-01-10T22:23:46.847882Z",
     "start_time": "2020-01-10T22:23:46.839581Z"
    }
   },
   "outputs": [],
   "source": [
    "metrics = []\n",
    "\n",
    "# 五绝平起首句入韵\n",
    "metrics.append([\n",
    "    '1','1','1/0','0','1',\n",
    "    '1/0','0','0','1','1',\n",
    "    '1/0','0','1','1','0',\n",
    "    '1','1','1/0','0','1'])\n",
    "# 五绝平起首句不入韵\n",
    "metrics.append([\n",
    "    '1/0','1','1','0','0',\n",
    "    '1/0','0','0','1','1',\n",
    "    '1/0','0','1','1','0',\n",
    "    '1','1','1/0','0','1'])\n",
    "# 五绝仄起首句入韵\n",
    "metrics.append([\n",
    "    '1/0','0','0','1','1',\n",
    "    '1','1','1/0','0','1',\n",
    "    '1/0','1','1','0','0',\n",
    "    '1/0','0','0','1','1'])\n",
    "# 五绝仄起首句不入韵\n",
    "metrics.append([\n",
    "    '1/0','0','1','1','0',\n",
    "    '1','1','1/0','0','1',\n",
    "    '1/0','1','1','0','0',\n",
    "    '1/0','0','0','1','1'])"
   ]
  },
  {
   "cell_type": "code",
   "execution_count": 90,
   "metadata": {
    "ExecuteTime": {
     "end_time": "2020-01-10T22:29:39.011477Z",
     "start_time": "2020-01-10T22:29:39.002217Z"
    }
   },
   "outputs": [],
   "source": [
    "def metricsAnalytics(verse, metrics):\n",
    "    tokens, tones = verse\n",
    "    print('五绝') \n",
    "    count = 0 \n",
    "    RBOOK = P_PING_unflattened\n",
    "    if tones[1] == '1':\n",
    "        print('平起') \n",
    "        metric = metrics[:2]\n",
    "    else:\n",
    "        print('仄起')\n",
    "        metric = metrics[2:]\n",
    "        \n",
    "    for k,v in enumerate(RBOOK):\n",
    "        if tokens[9] in v and tokens[19] in v:\n",
    "            if tones[4] == '1':\n",
    "                num_metrics = 0\n",
    "                print('首句入韵')\n",
    "            else:\n",
    "                num_metrics = 1\n",
    "                print('首句不入韵')\n",
    "\n",
    "                for k,(l1,l2) in enumerate(zip(tones,metric[num_metrics])):\n",
    "                    if l1 == '1/0':\n",
    "                        print(\"[检测到多音字\",tokens[k],\"]\")\n",
    "                    elif l2 == '1/0':\n",
    "                        pass\n",
    "                    elif l1 != l2 and k%5 != 0:\n",
    "                        if l1 == '0':\n",
    "                            print(tokens[k],\"失配,建议：仄\")\n",
    "                        else:\n",
    "                            print(tokens[k],\"失配,建议：平\")\n",
    "                        count += 1\n",
    "   \n",
    "    print('失配词数',count)"
   ]
  },
  {
   "cell_type": "code",
   "execution_count": 91,
   "metadata": {
    "ExecuteTime": {
     "end_time": "2020-01-10T22:29:39.418234Z",
     "start_time": "2020-01-10T22:29:39.404461Z"
    }
   },
   "outputs": [],
   "source": [
    "verse1 = preprocess(raw1)\n",
    "verse2 = preprocess(raw2)\n",
    "verse3 = preprocess(raw3)\n",
    "verse4 = preprocess(raw4)\n",
    "verse5 = preprocess(raw5) \n",
    "verse6 = preprocess(raw6)\n",
    "verse7 = preprocess(raw7)"
   ]
  },
  {
   "cell_type": "code",
   "execution_count": 92,
   "metadata": {
    "ExecuteTime": {
     "end_time": "2020-01-10T22:29:39.782378Z",
     "start_time": "2020-01-10T22:29:39.773427Z"
    }
   },
   "outputs": [
    {
     "name": "stdout",
     "output_type": "stream",
     "text": [
      "五绝\n",
      "仄起\n",
      "首句不入韵\n",
      "[检测到多音字 更 ]\n",
      "失配词数 0\n"
     ]
    }
   ],
   "source": [
    "metricsAnalytics(verse1, metrics)"
   ]
  },
  {
   "cell_type": "code",
   "execution_count": 93,
   "metadata": {
    "ExecuteTime": {
     "end_time": "2020-01-10T22:29:40.221318Z",
     "start_time": "2020-01-10T22:29:40.214550Z"
    }
   },
   "outputs": [
    {
     "name": "stdout",
     "output_type": "stream",
     "text": [
      "五绝\n",
      "仄起\n",
      "首句不入韵\n",
      "[检测到多音字 丽 ]\n",
      "[检测到多音字 泥 ]\n",
      "[检测到多音字 燕 ]\n",
      "失配词数 0\n"
     ]
    }
   ],
   "source": [
    "metricsAnalytics(verse2, metrics)"
   ]
  },
  {
   "cell_type": "code",
   "execution_count": 94,
   "metadata": {
    "ExecuteTime": {
     "end_time": "2020-01-10T22:29:40.737801Z",
     "start_time": "2020-01-10T22:29:40.732575Z"
    }
   },
   "outputs": [
    {
     "name": "stdout",
     "output_type": "stream",
     "text": [
      "五绝\n",
      "平起\n",
      "首句不入韵\n",
      "失配词数 0\n"
     ]
    }
   ],
   "source": [
    "metricsAnalytics(verse3, metrics)"
   ]
  },
  {
   "cell_type": "code",
   "execution_count": 95,
   "metadata": {
    "ExecuteTime": {
     "end_time": "2020-01-10T22:29:41.248065Z",
     "start_time": "2020-01-10T22:29:41.240734Z"
    }
   },
   "outputs": [
    {
     "name": "stdout",
     "output_type": "stream",
     "text": [
      "五绝\n",
      "平起\n",
      "首句入韵\n",
      "失配词数 0\n"
     ]
    }
   ],
   "source": [
    "metricsAnalytics(verse4, metrics)"
   ]
  },
  {
   "cell_type": "code",
   "execution_count": 96,
   "metadata": {
    "ExecuteTime": {
     "end_time": "2020-01-10T22:29:41.769635Z",
     "start_time": "2020-01-10T22:29:41.764911Z"
    }
   },
   "outputs": [
    {
     "name": "stdout",
     "output_type": "stream",
     "text": [
      "五绝\n",
      "仄起\n",
      "首句入韵\n",
      "失配词数 0\n"
     ]
    }
   ],
   "source": [
    "metricsAnalytics(verse5, metrics)"
   ]
  },
  {
   "cell_type": "code",
   "execution_count": 97,
   "metadata": {
    "ExecuteTime": {
     "end_time": "2020-01-10T22:29:42.280418Z",
     "start_time": "2020-01-10T22:29:42.273061Z"
    }
   },
   "outputs": [
    {
     "name": "stdout",
     "output_type": "stream",
     "text": [
      "五绝\n",
      "平起\n",
      "首句不入韵\n",
      "[检测到多音字 不 ]\n",
      "[检测到多音字 吹 ]\n",
      "失配词数 0\n"
     ]
    }
   ],
   "source": [
    "metricsAnalytics(verse6, metrics)"
   ]
  },
  {
   "cell_type": "code",
   "execution_count": 98,
   "metadata": {
    "ExecuteTime": {
     "end_time": "2020-01-10T22:29:42.826335Z",
     "start_time": "2020-01-10T22:29:42.820512Z"
    }
   },
   "outputs": [
    {
     "name": "stdout",
     "output_type": "stream",
     "text": [
      "五绝\n",
      "平起\n",
      "首句不入韵\n",
      "七 失配,建议：仄\n",
      "弦 失配,建议：平\n",
      "[检测到多音字 听 ]\n",
      "松 失配,建议：平\n",
      "[检测到多音字 调 ]\n",
      "自 失配,建议：仄\n",
      "[检测到多音字 不 ]\n",
      "[检测到多音字 弹 ]\n",
      "失配词数 4\n"
     ]
    }
   ],
   "source": [
    "metricsAnalytics(verse7, metrics)"
   ]
  },
  {
   "cell_type": "code",
   "execution_count": null,
   "metadata": {},
   "outputs": [],
   "source": []
  }
 ],
 "metadata": {
  "kernelspec": {
   "display_name": "Python(myenv)",
   "language": "python",
   "name": "myenv"
  },
  "language_info": {
   "codemirror_mode": {
    "name": "ipython",
    "version": 3
   },
   "file_extension": ".py",
   "mimetype": "text/x-python",
   "name": "python",
   "nbconvert_exporter": "python",
   "pygments_lexer": "ipython3",
   "version": "3.7.3"
  },
  "latex_envs": {
   "LaTeX_envs_menu_present": true,
   "autoclose": false,
   "autocomplete": true,
   "bibliofile": "biblio.bib",
   "cite_by": "apalike",
   "current_citInitial": 1,
   "eqLabelWithNumbers": true,
   "eqNumInitial": 1,
   "hotkeys": {
    "equation": "Ctrl-E",
    "itemize": "Ctrl-I"
   },
   "labels_anchors": false,
   "latex_user_defs": false,
   "report_style_numbering": false,
   "user_envs_cfg": false
  },
  "varInspector": {
   "cols": {
    "lenName": 16,
    "lenType": 16,
    "lenVar": 40
   },
   "kernels_config": {
    "python": {
     "delete_cmd_postfix": "",
     "delete_cmd_prefix": "del ",
     "library": "var_list.py",
     "varRefreshCmd": "print(var_dic_list())"
    },
    "r": {
     "delete_cmd_postfix": ") ",
     "delete_cmd_prefix": "rm(",
     "library": "var_list.r",
     "varRefreshCmd": "cat(var_dic_list()) "
    }
   },
   "types_to_exclude": [
    "module",
    "function",
    "builtin_function_or_method",
    "instance",
    "_Feature"
   ],
   "window_display": false
  }
 },
 "nbformat": 4,
 "nbformat_minor": 2
}
