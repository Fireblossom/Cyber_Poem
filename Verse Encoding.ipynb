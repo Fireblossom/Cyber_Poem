{
 "cells": [
  {
   "cell_type": "markdown",
   "metadata": {},
   "source": [
    "## To-do\n",
    "\n",
    "+ 对象：\n",
    "    + 五绝（二联，四句）\n",
    "    + 五律（四联，八句）\n",
    "+ 原始诗歌文本预处理（分字）\n",
    "+ 采用《平水韵》韵书判断平仄（问题：多音字）\n",
    "+ 判断符合格律：\n",
    "    + 五绝（律）平起首句入韵\n",
    "    + 五绝（律）仄起首句入韵\n",
    "    + 五绝（律）平起首句不入韵\n",
    "    + 五绝（律）仄起首句不入韵\n",
    "+ 判断押韵\n",
    "    + 失粘、失对、三平、孤平\n",
    "+ 编码使符合 TEI Verse 格式\n",
    "    + 解读 TEI Verse 标签******"
   ]
  },
  {
   "cell_type": "code",
   "execution_count": 1,
   "metadata": {
    "ExecuteTime": {
     "end_time": "2020-01-17T10:43:57.471760Z",
     "start_time": "2020-01-17T10:43:54.789743Z"
    }
   },
   "outputs": [],
   "source": [
    "# encoding=utf-8\n",
    "import jieba\n",
    "import nltk\n",
    "import json\n",
    "import re"
   ]
  },
  {
   "cell_type": "code",
   "execution_count": 2,
   "metadata": {
    "ExecuteTime": {
     "end_time": "2020-01-17T10:43:59.972523Z",
     "start_time": "2020-01-17T10:43:59.966491Z"
    }
   },
   "outputs": [],
   "source": [
    "def flatten(l):\n",
    "    return [item for sublist in l for item in sublist]"
   ]
  },
  {
   "cell_type": "code",
   "execution_count": 9,
   "metadata": {
    "ExecuteTime": {
     "end_time": "2020-01-17T10:47:03.054076Z",
     "start_time": "2020-01-17T10:47:02.975366Z"
    }
   },
   "outputs": [],
   "source": [
    "with open(\"data/rhymebooks.json\") as output:\n",
    "    rhymes = json.load(output)\n",
    "with open(\"data/TC2SC.json\") as output:\n",
    "    T2C = json.load(output)\n",
    "with open(\"data/kangxi.json\") as output:\n",
    "    Dict = json.load(output)\n",
    "with open(\"data/metric.name\") as output:\n",
    "    metric_names = [line.strip() for line in output]"
   ]
  },
  {
   "cell_type": "code",
   "execution_count": 10,
   "metadata": {
    "ExecuteTime": {
     "end_time": "2020-01-17T10:47:05.145138Z",
     "start_time": "2020-01-17T10:47:05.140473Z"
    }
   },
   "outputs": [
    {
     "name": "stdout",
     "output_type": "stream",
     "text": [
      "['一东', '二冬', '三江', '四支', '五微', '六鱼', '七虞', '八齐', '九佳', '十灰', '十一真', '十二文', '十三元', '十四寒', '十五删', '一先', '二萧', '三肴', '四豪', '五歌', '六麻', '七阳', '八庚', '九青', '十蒸', '十一尤', '十二侵', '十三覃', '十四盐', '十五咸', '一董', '二肿', '三讲', '四纸', '五尾', '六语', '七麌', '八荠', '九蟹', '十贿', '十一轸', '十二吻', '十三阮', '十四旱', '十五潸', '十六铣', '十七筱', '十八巧', '十九皓', '二十哿', '二十一马', '二十二养', '二十三梗', '二十四迥', '二十五有', '二十六寝', '二十七感', '二十八琰', '二十九豏', '一送', '二宋', '三绛', '四寘', '五未', '六御', '七遇', '八霁', '九泰', '十卦', '十一队', '十二震', '十三问', '十四愿', '十五翰', '十六谏', '十七霰', '十八啸', '十九效', '二十号', '二十一个', '二十二祃', '二十三漾', '二十四敬', '二十五径', '二十六宥', '二十七沁', '二十八勘', '二十九艳', '三十陷', '一屋', '二沃', '三觉', '四质', '五物', '六月', '七曷', '八黠', '九屑', '十药', '十一陌', '十二锡', '十三职', '十四缉', '十五合', '十六叶', '十七洽']\n"
     ]
    }
   ],
   "source": [
    "print(metric_names)"
   ]
  },
  {
   "cell_type": "code",
   "execution_count": 11,
   "metadata": {
    "ExecuteTime": {
     "end_time": "2020-01-17T10:47:36.544696Z",
     "start_time": "2020-01-17T10:47:36.539563Z"
    }
   },
   "outputs": [],
   "source": [
    "# 《平水韵》有入声，《中华新韵》无。\n",
    "# 诗用《平水韵》，词用《词林正韵》\n",
    "P_PING_unflattened = rhymes['平水韵'][0]\n",
    "Z_PING_unflattened = rhymes['平水韵'][1]\n",
    "P_PING = flatten(rhymes['平水韵'][0])\n",
    "Z_PING = flatten(rhymes['平水韵'][1])\n",
    "# P_ZHXY = flatten(rhymes['中华新韵'][0])\n",
    "# Z_ZHXY = flatten(rhymes['中华新韵'][1])"
   ]
  },
  {
   "cell_type": "code",
   "execution_count": 12,
   "metadata": {
    "ExecuteTime": {
     "end_time": "2020-01-17T10:47:37.291033Z",
     "start_time": "2020-01-17T10:47:37.286903Z"
    }
   },
   "outputs": [],
   "source": [
    "raw1 = \"白日依山尽，黄河入海流。欲穷千里目，更上一层楼。\"\n",
    "raw2 = \"迟日江山丽，春风花草香。 泥融飞燕子， 沙暖睡鸳鸯。\"\n",
    "raw3 = \"鸣筝金粟柱, 素手玉房前, 欲得周郎顾, 时时误拂弦\"\n",
    "raw4 = \"花明绮陌春，柳拂御沟新。为报辽阳客，流芳不待人。\"\n",
    "raw5 = \"北斗七星高，哥舒夜带刀。至今窥牧马，不敢过临洮。\"\n",
    "raw6 = \"离离原上草，一岁一枯荣。野火烧不尽，春风吹又生。\""
   ]
  },
  {
   "cell_type": "code",
   "execution_count": 13,
   "metadata": {
    "ExecuteTime": {
     "end_time": "2020-01-17T10:47:39.203081Z",
     "start_time": "2020-01-17T10:47:39.198478Z"
    }
   },
   "outputs": [],
   "source": [
    "raw7 = \"泠泠七弦上，静听松风寒。古调虽自爱，今人多不弹。\""
   ]
  },
  {
   "cell_type": "code",
   "execution_count": 13,
   "metadata": {
    "ExecuteTime": {
     "end_time": "2020-01-14T11:07:40.870374Z",
     "start_time": "2020-01-14T11:07:40.863670Z"
    }
   },
   "outputs": [
    {
     "data": {
      "text/plain": [
       "'欲穷千里目 ， 更上一层楼 。'"
      ]
     },
     "execution_count": 13,
     "metadata": {},
     "output_type": "execute_result"
    }
   ],
   "source": [
    "keywords = jieba.cut('欲穷千里目，更上一层楼。', cut_all=False)\n",
    "\" \".join(keywords)"
   ]
  },
  {
   "cell_type": "code",
   "execution_count": 15,
   "metadata": {
    "ExecuteTime": {
     "end_time": "2020-01-14T11:11:04.704200Z",
     "start_time": "2020-01-14T11:11:04.655969Z"
    }
   },
   "outputs": [
    {
     "name": "stderr",
     "output_type": "stream",
     "text": [
      "Paddle enabled successfully......\n"
     ]
    },
    {
     "name": "stdout",
     "output_type": "stream",
     "text": [
      "Paddle Mode: 白\n",
      "Paddle Mode: 日\n",
      "Paddle Mode: 依\n",
      "Paddle Mode: 山\n",
      "Paddle Mode: 尽\n",
      "Paddle Mode: ，\n",
      "Paddle Mode: 黄\n",
      "Paddle Mode: 河\n",
      "Paddle Mode: 入\n",
      "Paddle Mode: 海\n",
      "Paddle Mode: 流\n",
      "Paddle Mode: 。\n",
      "Paddle Mode: 欲\n",
      "Paddle Mode: 穷\n",
      "Paddle Mode: 千\n",
      "Paddle Mode: 里\n",
      "Paddle Mode: 目\n",
      "Paddle Mode: ，\n",
      "Paddle Mode: 更\n",
      "Paddle Mode: 上\n",
      "Paddle Mode: 一\n",
      "Paddle Mode: 层\n",
      "Paddle Mode: 楼\n",
      "Paddle Mode: 。\n",
      "Full Mode: 白日/ 依/ 山/ 尽/ ，/ 黄河/ 河入海/ 入海/ 入海流/ 海流/ 。/ 欲穷千里/ 欲穷千里目/ 千里/ 千里目/ ，/ 更上一层/ 更上一层楼/ 一层/ 一层楼/ 层楼/ 。\n",
      "Default Mode: 白日/ 依山/ 尽/ ，/ 黄河/ 入海流/ 。/ 欲穷千里目/ ，/ 更上一层楼/ 。\n",
      "白日, 依山, 尽, ，, 黄河, 入海流, 。, 欲穷千里目, ，, 更上一层楼, 。\n",
      "白日, 依山, 尽, ，, 黄河, 入海, 海流, 入海流, 。, 千里, 千里目, 欲穷千里目, ，, 一层, 层楼, 一层楼, 更上一层楼, 。\n"
     ]
    }
   ],
   "source": [
    "jieba.enable_paddle()# 启动paddle模式。 0.40版之后开始支持，早期版本不支持\n",
    "strs = raw1\n",
    "for str in strs:\n",
    "    seg_list = jieba.cut(str,use_paddle=True) # 使用paddle模式\n",
    "    print(\"Paddle Mode: \" + '/'.join(list(seg_list)))\n",
    "\n",
    "seg_list = jieba.cut(raw1, cut_all=True)\n",
    "print(\"Full Mode: \" + \"/ \".join(seg_list))  # 全模式\n",
    "\n",
    "seg_list = jieba.cut(raw1, cut_all=False)\n",
    "print(\"Default Mode: \" + \"/ \".join(seg_list))  # 精确模式\n",
    "\n",
    "seg_list = jieba.cut(raw1)  # 默认是精确模式\n",
    "print(\", \".join(seg_list))\n",
    "\n",
    "seg_list = jieba.cut_for_search(raw1)  # 搜索引擎模式\n",
    "print(\", \".join(seg_list))"
   ]
  },
  {
   "cell_type": "code",
   "execution_count": 14,
   "metadata": {
    "ExecuteTime": {
     "end_time": "2020-01-17T10:49:06.620118Z",
     "start_time": "2020-01-17T10:49:06.614033Z"
    }
   },
   "outputs": [],
   "source": [
    "def preprocess(raw):\n",
    "    clean = re.sub(r'[，。, .]', \"\", raw)\n",
    "    tokens = [token for token in clean if token]\n",
    "    tones  = []\n",
    "    for t in tokens:\n",
    "        if t in P_PING:\n",
    "            if t in Z_PING:\n",
    "                tones.append('1/0') \n",
    "            else:\n",
    "                tones.append('1') \n",
    "        else:\n",
    "            tones.append('0')\n",
    "    return tokens,tones"
   ]
  },
  {
   "cell_type": "code",
   "execution_count": 15,
   "metadata": {
    "ExecuteTime": {
     "end_time": "2020-01-17T10:49:07.513455Z",
     "start_time": "2020-01-17T10:49:07.505641Z"
    }
   },
   "outputs": [],
   "source": [
    "metrics = []\n",
    "\n",
    "# 五绝平起首句入韵\n",
    "metrics.append([\n",
    "    '1','1','1/0','0','1',\n",
    "    '1/0','0','0','1','1',\n",
    "    '1/0','0','1','1','0',\n",
    "    '1','1','1/0','0','1'])\n",
    "# 五绝平起首句不入韵\n",
    "metrics.append([\n",
    "    '1/0','1','1','0','0',\n",
    "    '1/0','0','0','1','1',\n",
    "    '1/0','0','1','1','0',\n",
    "    '1','1','1/0','0','1'])\n",
    "# 五绝仄起首句入韵\n",
    "metrics.append([\n",
    "    '1/0','0','0','1','1',\n",
    "    '1','1','1/0','0','1',\n",
    "    '1/0','1','1','0','0',\n",
    "    '1/0','0','0','1','1'])\n",
    "# 五绝仄起首句不入韵\n",
    "metrics.append([\n",
    "    '1/0','0','1','1','0',\n",
    "    '1','1','1/0','0','1',\n",
    "    '1/0','1','1','0','0',\n",
    "    '1/0','0','0','1','1'])"
   ]
  },
  {
   "cell_type": "code",
   "execution_count": 44,
   "metadata": {
    "ExecuteTime": {
     "end_time": "2020-01-17T11:00:55.522447Z",
     "start_time": "2020-01-17T11:00:55.429591Z"
    }
   },
   "outputs": [],
   "source": [
    "def metricsAnalytics(verse, metrics):\n",
    "    tokens, tones = verse\n",
    "    print('五绝') \n",
    "    count = 0 \n",
    "    RBOOK = P_PING_unflattened\n",
    "    if tones[1] == '1':\n",
    "        print('平起') \n",
    "        metric = metrics[:2]\n",
    "    else:\n",
    "        print('仄起')\n",
    "        metric = metrics[2:]\n",
    "        \n",
    "    for k,v in enumerate(RBOOK):\n",
    "        if tokens[9] in v and tokens[19] in v:\n",
    "            print(\"韵脚：\", metric_names[k])\n",
    "            if tones[4] == '1':\n",
    "                num_metrics = 0\n",
    "                if tokens[4] in v:\n",
    "                    print('首句入韵')\n",
    "            else:\n",
    "                num_metrics = 1\n",
    "                print('首句仄收，不入韵, 首句白脚')\n",
    "\n",
    "                for k,(l1,l2) in enumerate(zip(tones,metric[num_metrics])):\n",
    "                    if l1 == '1/0':\n",
    "                        print(\"[检测到多音字\",tokens[k],\"]\")\n",
    "                    elif l2 == '1/0':\n",
    "                        pass\n",
    "                    elif l1 != l2 and k%5 != 0:\n",
    "                        if l1 == '0':\n",
    "                            print(tokens[k],\"失配,建议：仄\")\n",
    "                        else:\n",
    "                            print(tokens[k],\"失配,建议：平\")\n",
    "                        count += 1\n",
    "   \n",
    "    print('失配词数',count)"
   ]
  },
  {
   "cell_type": "code",
   "execution_count": 45,
   "metadata": {
    "ExecuteTime": {
     "end_time": "2020-01-17T11:00:55.825892Z",
     "start_time": "2020-01-17T11:00:55.812950Z"
    }
   },
   "outputs": [],
   "source": [
    "verse1 = preprocess(raw1)\n",
    "verse2 = preprocess(raw2)\n",
    "verse3 = preprocess(raw3)\n",
    "verse4 = preprocess(raw4)\n",
    "verse5 = preprocess(raw5) \n",
    "verse6 = preprocess(raw6)\n",
    "verse7 = preprocess(raw7)"
   ]
  },
  {
   "cell_type": "code",
   "execution_count": 46,
   "metadata": {
    "ExecuteTime": {
     "end_time": "2020-01-17T11:00:56.418012Z",
     "start_time": "2020-01-17T11:00:56.410114Z"
    }
   },
   "outputs": [
    {
     "name": "stdout",
     "output_type": "stream",
     "text": [
      "五绝\n",
      "仄起\n",
      "韵脚： 十一尤\n",
      "首句仄收，不入韵, 首句白脚\n",
      "[检测到多音字 更 ]\n",
      "失配词数 0\n"
     ]
    }
   ],
   "source": [
    "metricsAnalytics(verse1, metrics)"
   ]
  },
  {
   "cell_type": "code",
   "execution_count": 47,
   "metadata": {
    "ExecuteTime": {
     "end_time": "2020-01-17T11:00:57.848320Z",
     "start_time": "2020-01-17T11:00:57.842737Z"
    }
   },
   "outputs": [
    {
     "name": "stdout",
     "output_type": "stream",
     "text": [
      "五绝\n",
      "仄起\n",
      "韵脚： 七阳\n",
      "首句仄收，不入韵, 首句白脚\n",
      "[检测到多音字 丽 ]\n",
      "[检测到多音字 泥 ]\n",
      "[检测到多音字 燕 ]\n",
      "失配词数 0\n"
     ]
    }
   ],
   "source": [
    "metricsAnalytics(verse2, metrics)"
   ]
  },
  {
   "cell_type": "code",
   "execution_count": 48,
   "metadata": {
    "ExecuteTime": {
     "end_time": "2020-01-17T11:00:58.560905Z",
     "start_time": "2020-01-17T11:00:58.555618Z"
    }
   },
   "outputs": [
    {
     "name": "stdout",
     "output_type": "stream",
     "text": [
      "五绝\n",
      "平起\n",
      "韵脚： 一先\n",
      "首句仄收，不入韵, 首句白脚\n",
      "失配词数 0\n"
     ]
    }
   ],
   "source": [
    "metricsAnalytics(verse3, metrics)"
   ]
  },
  {
   "cell_type": "code",
   "execution_count": 49,
   "metadata": {
    "ExecuteTime": {
     "end_time": "2020-01-17T11:00:59.218156Z",
     "start_time": "2020-01-17T11:00:59.210785Z"
    }
   },
   "outputs": [
    {
     "name": "stdout",
     "output_type": "stream",
     "text": [
      "五绝\n",
      "平起\n",
      "韵脚： 十一真\n",
      "首句入韵\n",
      "失配词数 0\n"
     ]
    }
   ],
   "source": [
    "metricsAnalytics(verse4, metrics)"
   ]
  },
  {
   "cell_type": "code",
   "execution_count": 50,
   "metadata": {
    "ExecuteTime": {
     "end_time": "2020-01-17T11:00:59.989182Z",
     "start_time": "2020-01-17T11:00:59.983994Z"
    }
   },
   "outputs": [
    {
     "name": "stdout",
     "output_type": "stream",
     "text": [
      "五绝\n",
      "仄起\n",
      "韵脚： 四豪\n",
      "首句入韵\n",
      "失配词数 0\n"
     ]
    }
   ],
   "source": [
    "metricsAnalytics(verse5, metrics)"
   ]
  },
  {
   "cell_type": "code",
   "execution_count": 51,
   "metadata": {
    "ExecuteTime": {
     "end_time": "2020-01-17T11:01:00.660483Z",
     "start_time": "2020-01-17T11:01:00.654429Z"
    }
   },
   "outputs": [
    {
     "name": "stdout",
     "output_type": "stream",
     "text": [
      "五绝\n",
      "平起\n",
      "韵脚： 八庚\n",
      "首句仄收，不入韵, 首句白脚\n",
      "[检测到多音字 不 ]\n",
      "[检测到多音字 吹 ]\n",
      "失配词数 0\n"
     ]
    }
   ],
   "source": [
    "metricsAnalytics(verse6, metrics)"
   ]
  },
  {
   "cell_type": "code",
   "execution_count": 52,
   "metadata": {
    "ExecuteTime": {
     "end_time": "2020-01-17T11:01:01.471757Z",
     "start_time": "2020-01-17T11:01:01.466159Z"
    }
   },
   "outputs": [
    {
     "name": "stdout",
     "output_type": "stream",
     "text": [
      "五绝\n",
      "平起\n",
      "韵脚： 十四寒\n",
      "首句仄收，不入韵, 首句白脚\n",
      "七 失配,建议：仄\n",
      "弦 失配,建议：平\n",
      "[检测到多音字 听 ]\n",
      "松 失配,建议：平\n",
      "[检测到多音字 调 ]\n",
      "自 失配,建议：仄\n",
      "[检测到多音字 不 ]\n",
      "[检测到多音字 弹 ]\n",
      "失配词数 4\n"
     ]
    }
   ],
   "source": [
    "metricsAnalytics(verse7, metrics)"
   ]
  },
  {
   "cell_type": "code",
   "execution_count": null,
   "metadata": {},
   "outputs": [],
   "source": []
  },
  {
   "cell_type": "code",
   "execution_count": null,
   "metadata": {},
   "outputs": [],
   "source": []
  }
 ],
 "metadata": {
  "kernelspec": {
   "display_name": "Python(myenv)",
   "language": "python",
   "name": "myenv"
  },
  "language_info": {
   "codemirror_mode": {
    "name": "ipython",
    "version": 3
   },
   "file_extension": ".py",
   "mimetype": "text/x-python",
   "name": "python",
   "nbconvert_exporter": "python",
   "pygments_lexer": "ipython3",
   "version": "3.7.3"
  },
  "latex_envs": {
   "LaTeX_envs_menu_present": true,
   "autoclose": false,
   "autocomplete": true,
   "bibliofile": "biblio.bib",
   "cite_by": "apalike",
   "current_citInitial": 1,
   "eqLabelWithNumbers": true,
   "eqNumInitial": 1,
   "hotkeys": {
    "equation": "Ctrl-E",
    "itemize": "Ctrl-I"
   },
   "labels_anchors": false,
   "latex_user_defs": false,
   "report_style_numbering": false,
   "user_envs_cfg": false
  },
  "varInspector": {
   "cols": {
    "lenName": 16,
    "lenType": 16,
    "lenVar": 40
   },
   "kernels_config": {
    "python": {
     "delete_cmd_postfix": "",
     "delete_cmd_prefix": "del ",
     "library": "var_list.py",
     "varRefreshCmd": "print(var_dic_list())"
    },
    "r": {
     "delete_cmd_postfix": ") ",
     "delete_cmd_prefix": "rm(",
     "library": "var_list.r",
     "varRefreshCmd": "cat(var_dic_list()) "
    }
   },
   "types_to_exclude": [
    "module",
    "function",
    "builtin_function_or_method",
    "instance",
    "_Feature"
   ],
   "window_display": false
  }
 },
 "nbformat": 4,
 "nbformat_minor": 2
}
